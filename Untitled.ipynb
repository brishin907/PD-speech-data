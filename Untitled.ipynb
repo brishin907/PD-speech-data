{
 "cells": [
  {
   "cell_type": "code",
   "execution_count": 1,
   "id": "a047b31c-b3de-46ed-8064-20741c32334c",
   "metadata": {},
   "outputs": [],
   "source": [
    "# %matplotlib inline\n",
    "import numpy as np\n",
    "import pandas as pd\n",
    "import matplotlib.pyplot as plt\n",
    "from sklearn.decomposition import PCA\n",
    "from sklearn import preprocessing\n",
    "from sklearn.preprocessing import StandardScaler\n",
    "from sklearn.cluster import KMeans\n",
    "import warnings\n",
    "warnings.filterwarnings(\"ignore\")"
   ]
  },
  {
   "cell_type": "code",
   "execution_count": 2,
   "id": "71811c71-198e-437b-a33b-5c5a5793417b",
   "metadata": {},
   "outputs": [],
   "source": [
    "# Load the Parkinson speech dataset\n",
    "df = pd.read_csv('train_data.txt') # 读取数据\n",
    "df.columns = ['subject id', 'jitter_local', 'jitter_local_absolute',\n",
    "               'jitter_rap', 'jitter_ppq5', 'jitter_ddp', 'shimmer_local',\n",
    "               'shimmer_local_db', 'shimmer_apq3', 'shimmer_apq5',\n",
    "               'shimmer_apq11', 'shimmer_data', 'AC', 'NTH', 'HTN',\n",
    "               'median_pitch', 'mean_pitch', 'standard_dev_pitch',\n",
    "               'min_pitch', 'max_pitch', 'num_pulses', 'num_periods',\n",
    "               'mean_period','standard_dev_period', 'frac_locally_unvoiced_frames',\n",
    "               'num_voice_breaks','degree_of_voice_breaks', 'UPDRS', 'class'] # 给数据赋列名\n",
    "\n",
    "df = df.drop(columns=['subject id', 'class']) # 去掉列名为'subject id'和'class'的列"
   ]
  },
  {
   "cell_type": "code",
   "execution_count": 3,
   "id": "c59ad74d-de36-4b69-b2ad-cb17b9055f2b",
   "metadata": {},
   "outputs": [],
   "source": [
    "gps = [\n",
    "    ['jitter_local', 'jitter_local_absolute', 'jitter_rap', 'jitter_ppq5', 'jitter_ddp'],\n",
    "    ['shimmer_local', 'shimmer_local_db', 'shimmer_apq3', 'shimmer_apq5', 'shimmer_apq11', 'shimmer_data'],\n",
    "    ['median_pitch', 'mean_pitch', 'standard_dev_pitch', 'min_pitch', 'max_pitch'],\n",
    "    ['AC', 'NTH', 'HTN'],\n",
    "    ['num_pulses', 'num_periods', 'mean_period','standard_dev_period'],\n",
    "    ['frac_locally_unvoiced_frames', 'num_voice_breaks','degree_of_voice_breaks'],\n",
    "] # 定义一个列表，列表中又包含多个列表，这些列表中的元素和df的列名相同。\n",
    "UPDRS = '1', '5', '8', '11', '12', '16', '20', '23', '24', '26', '31', '32', '40', '46', '55'"
   ]
  },
  {
   "cell_type": "code",
   "execution_count": 4,
   "id": "27598c7c-3326-4685-ba9e-3a229fc12ce2",
   "metadata": {},
   "outputs": [],
   "source": [
    "X = df.iloc[:, :-1] # 取df除最后一列的所有列作为x\n",
    "y = df.iloc[:, -1] # 取df的最后一列作为y\n",
    "X = StandardScaler().fit_transform(X) # 将fit和transform放在一起 先fit后transform"
   ]
  },
  {
   "cell_type": "code",
   "execution_count": 5,
   "id": "0a160b86-5782-4efc-bf0b-15672c3c9dd7",
   "metadata": {},
   "outputs": [],
   "source": [
    "def pca(X): # 定义pca函数\n",
    "  scaler = StandardScaler() # 用于将数据转换为均值为0，方差为1的标准正态分布。\n",
    "  X_std = scaler.fit_transform(X)\n",
    "  pca = PCA(n_components=X_std.shape[1])\n",
    "  pca.fit(X_std)\n",
    "  evs = pca.explained_variance_ratio_\n",
    "  tot_ev = 0\n",
    "  cnt = 0\n",
    "  for i in evs:\n",
    "    tot_ev += i\n",
    "    cnt += 1\n",
    "    if tot_ev >= 0.8:\n",
    "      break\n",
    "  ret = pca.transform(X_std)\n",
    "  print(f\"for {list(X.columns)}, keep {cnt} features to get an explained_variance_ratio of {tot_ev}\")\n",
    "  return ret[:,:cnt]"
   ]
  },
  {
   "cell_type": "code",
   "execution_count": 6,
   "id": "19922510-afc6-41ab-aa01-2834e68309bc",
   "metadata": {},
   "outputs": [
    {
     "name": "stdout",
     "output_type": "stream",
     "text": [
      "for ['jitter_local', 'jitter_local_absolute', 'jitter_rap', 'jitter_ppq5', 'jitter_ddp'], keep 1 features to get an explained_variance_ratio of 0.8898027996784917\n",
      "for ['shimmer_local', 'shimmer_local_db', 'shimmer_apq3', 'shimmer_apq5', 'shimmer_apq11', 'shimmer_data'], keep 1 features to get an explained_variance_ratio of 0.8121322932673971\n",
      "for ['median_pitch', 'mean_pitch', 'standard_dev_pitch', 'min_pitch', 'max_pitch'], keep 2 features to get an explained_variance_ratio of 0.9404758200268596\n",
      "for ['AC', 'NTH', 'HTN'], keep 1 features to get an explained_variance_ratio of 0.9464691832031871\n",
      "for ['num_pulses', 'num_periods', 'mean_period', 'standard_dev_period'], keep 3 features to get an explained_variance_ratio of 0.9998312651771138\n",
      "for ['frac_locally_unvoiced_frames', 'num_voice_breaks', 'degree_of_voice_breaks'], keep 2 features to get an explained_variance_ratio of 0.9246679755940611\n"
     ]
    }
   ],
   "source": [
    "dfs_pca = []\n",
    "for gp in gps:\n",
    "  dfs_pca.append(pca(df[gp]).copy())"
   ]
  },
  {
   "cell_type": "code",
   "execution_count": 7,
   "id": "852838ee-bee4-48e9-993b-cef4548b0329",
   "metadata": {},
   "outputs": [
    {
     "name": "stdout",
     "output_type": "stream",
     "text": [
      "(1039, 10)\n"
     ]
    }
   ],
   "source": [
    "df_pca = np.concatenate(dfs_pca, axis=1) \n",
    "print(df_pca.shape) # 使用pca剩下10个特征"
   ]
  },
  {
   "cell_type": "code",
   "execution_count": 9,
   "id": "9526e181-384c-4709-8bb1-0d33d582d0cb",
   "metadata": {},
   "outputs": [
    {
     "ename": "ImportError",
     "evalue": "cannot import name '_MissingValues' from 'sklearn.utils._param_validation' (C:\\ProgramData\\anaconda3\\lib\\site-packages\\sklearn\\utils\\_param_validation.py)",
     "output_type": "error",
     "traceback": [
      "\u001b[1;31m---------------------------------------------------------------------------\u001b[0m",
      "\u001b[1;31mImportError\u001b[0m                               Traceback (most recent call last)",
      "Cell \u001b[1;32mIn[9], line 2\u001b[0m\n\u001b[0;32m      1\u001b[0m \u001b[38;5;66;03m# 过采样：对降维的数据进行过采样\u001b[39;00m\n\u001b[1;32m----> 2\u001b[0m \u001b[38;5;28;01mfrom\u001b[39;00m \u001b[38;5;21;01mimblearn\u001b[39;00m\u001b[38;5;21;01m.\u001b[39;00m\u001b[38;5;21;01mover_sampling\u001b[39;00m \u001b[38;5;28;01mimport\u001b[39;00m SMOTE\n\u001b[0;32m      4\u001b[0m \u001b[38;5;66;03m# 创建SMOTE对象\u001b[39;00m\n\u001b[0;32m      5\u001b[0m smote \u001b[38;5;241m=\u001b[39m SMOTE(random_state\u001b[38;5;241m=\u001b[39m\u001b[38;5;241m42\u001b[39m)\n",
      "File \u001b[1;32mC:\\ProgramData\\anaconda3\\lib\\site-packages\\imblearn\\__init__.py:52\u001b[0m\n\u001b[0;32m     48\u001b[0m     sys\u001b[38;5;241m.\u001b[39mstderr\u001b[38;5;241m.\u001b[39mwrite(\u001b[38;5;124m\"\u001b[39m\u001b[38;5;124mPartial import of imblearn during the build process.\u001b[39m\u001b[38;5;130;01m\\n\u001b[39;00m\u001b[38;5;124m\"\u001b[39m)\n\u001b[0;32m     49\u001b[0m     \u001b[38;5;66;03m# We are not importing the rest of scikit-learn during the build\u001b[39;00m\n\u001b[0;32m     50\u001b[0m     \u001b[38;5;66;03m# process, as it may not be compiled yet\u001b[39;00m\n\u001b[0;32m     51\u001b[0m \u001b[38;5;28;01melse\u001b[39;00m:\n\u001b[1;32m---> 52\u001b[0m     \u001b[38;5;28;01mfrom\u001b[39;00m \u001b[38;5;21;01m.\u001b[39;00m \u001b[38;5;28;01mimport\u001b[39;00m (\n\u001b[0;32m     53\u001b[0m         combine,\n\u001b[0;32m     54\u001b[0m         ensemble,\n\u001b[0;32m     55\u001b[0m         exceptions,\n\u001b[0;32m     56\u001b[0m         metrics,\n\u001b[0;32m     57\u001b[0m         over_sampling,\n\u001b[0;32m     58\u001b[0m         pipeline,\n\u001b[0;32m     59\u001b[0m         tensorflow,\n\u001b[0;32m     60\u001b[0m         under_sampling,\n\u001b[0;32m     61\u001b[0m         utils,\n\u001b[0;32m     62\u001b[0m     )\n\u001b[0;32m     63\u001b[0m     \u001b[38;5;28;01mfrom\u001b[39;00m \u001b[38;5;21;01m.\u001b[39;00m\u001b[38;5;21;01m_version\u001b[39;00m \u001b[38;5;28;01mimport\u001b[39;00m __version__\n\u001b[0;32m     64\u001b[0m     \u001b[38;5;28;01mfrom\u001b[39;00m \u001b[38;5;21;01m.\u001b[39;00m\u001b[38;5;21;01mbase\u001b[39;00m \u001b[38;5;28;01mimport\u001b[39;00m FunctionSampler\n",
      "File \u001b[1;32mC:\\ProgramData\\anaconda3\\lib\\site-packages\\imblearn\\combine\\__init__.py:5\u001b[0m\n\u001b[0;32m      1\u001b[0m \u001b[38;5;124;03m\"\"\"The :mod:`imblearn.combine` provides methods which combine\u001b[39;00m\n\u001b[0;32m      2\u001b[0m \u001b[38;5;124;03mover-sampling and under-sampling.\u001b[39;00m\n\u001b[0;32m      3\u001b[0m \u001b[38;5;124;03m\"\"\"\u001b[39;00m\n\u001b[1;32m----> 5\u001b[0m \u001b[38;5;28;01mfrom\u001b[39;00m \u001b[38;5;21;01m.\u001b[39;00m\u001b[38;5;21;01m_smote_enn\u001b[39;00m \u001b[38;5;28;01mimport\u001b[39;00m SMOTEENN\n\u001b[0;32m      6\u001b[0m \u001b[38;5;28;01mfrom\u001b[39;00m \u001b[38;5;21;01m.\u001b[39;00m\u001b[38;5;21;01m_smote_tomek\u001b[39;00m \u001b[38;5;28;01mimport\u001b[39;00m SMOTETomek\n\u001b[0;32m      8\u001b[0m __all__ \u001b[38;5;241m=\u001b[39m [\u001b[38;5;124m\"\u001b[39m\u001b[38;5;124mSMOTEENN\u001b[39m\u001b[38;5;124m\"\u001b[39m, \u001b[38;5;124m\"\u001b[39m\u001b[38;5;124mSMOTETomek\u001b[39m\u001b[38;5;124m\"\u001b[39m]\n",
      "File \u001b[1;32mC:\\ProgramData\\anaconda3\\lib\\site-packages\\imblearn\\combine\\_smote_enn.py:12\u001b[0m\n\u001b[0;32m      9\u001b[0m \u001b[38;5;28;01mfrom\u001b[39;00m \u001b[38;5;21;01msklearn\u001b[39;00m\u001b[38;5;21;01m.\u001b[39;00m\u001b[38;5;21;01mbase\u001b[39;00m \u001b[38;5;28;01mimport\u001b[39;00m clone\n\u001b[0;32m     10\u001b[0m \u001b[38;5;28;01mfrom\u001b[39;00m \u001b[38;5;21;01msklearn\u001b[39;00m\u001b[38;5;21;01m.\u001b[39;00m\u001b[38;5;21;01mutils\u001b[39;00m \u001b[38;5;28;01mimport\u001b[39;00m check_X_y\n\u001b[1;32m---> 12\u001b[0m \u001b[38;5;28;01mfrom\u001b[39;00m \u001b[38;5;21;01m.\u001b[39;00m\u001b[38;5;21;01m.\u001b[39;00m\u001b[38;5;21;01mbase\u001b[39;00m \u001b[38;5;28;01mimport\u001b[39;00m BaseSampler\n\u001b[0;32m     13\u001b[0m \u001b[38;5;28;01mfrom\u001b[39;00m \u001b[38;5;21;01m.\u001b[39;00m\u001b[38;5;21;01m.\u001b[39;00m\u001b[38;5;21;01mover_sampling\u001b[39;00m \u001b[38;5;28;01mimport\u001b[39;00m SMOTE\n\u001b[0;32m     14\u001b[0m \u001b[38;5;28;01mfrom\u001b[39;00m \u001b[38;5;21;01m.\u001b[39;00m\u001b[38;5;21;01m.\u001b[39;00m\u001b[38;5;21;01mover_sampling\u001b[39;00m\u001b[38;5;21;01m.\u001b[39;00m\u001b[38;5;21;01mbase\u001b[39;00m \u001b[38;5;28;01mimport\u001b[39;00m BaseOverSampler\n",
      "File \u001b[1;32mC:\\ProgramData\\anaconda3\\lib\\site-packages\\imblearn\\base.py:21\u001b[0m\n\u001b[0;32m     18\u001b[0m \u001b[38;5;28;01mfrom\u001b[39;00m \u001b[38;5;21;01msklearn\u001b[39;00m\u001b[38;5;21;01m.\u001b[39;00m\u001b[38;5;21;01mutils\u001b[39;00m\u001b[38;5;21;01m.\u001b[39;00m\u001b[38;5;21;01mmulticlass\u001b[39;00m \u001b[38;5;28;01mimport\u001b[39;00m check_classification_targets\n\u001b[0;32m     20\u001b[0m \u001b[38;5;28;01mfrom\u001b[39;00m \u001b[38;5;21;01m.\u001b[39;00m\u001b[38;5;21;01mutils\u001b[39;00m \u001b[38;5;28;01mimport\u001b[39;00m check_sampling_strategy, check_target_type\n\u001b[1;32m---> 21\u001b[0m \u001b[38;5;28;01mfrom\u001b[39;00m \u001b[38;5;21;01m.\u001b[39;00m\u001b[38;5;21;01mutils\u001b[39;00m\u001b[38;5;21;01m.\u001b[39;00m\u001b[38;5;21;01m_param_validation\u001b[39;00m \u001b[38;5;28;01mimport\u001b[39;00m validate_parameter_constraints\n\u001b[0;32m     22\u001b[0m \u001b[38;5;28;01mfrom\u001b[39;00m \u001b[38;5;21;01m.\u001b[39;00m\u001b[38;5;21;01mutils\u001b[39;00m\u001b[38;5;21;01m.\u001b[39;00m\u001b[38;5;21;01m_validation\u001b[39;00m \u001b[38;5;28;01mimport\u001b[39;00m ArraysTransformer\n\u001b[0;32m     25\u001b[0m \u001b[38;5;28;01mclass\u001b[39;00m \u001b[38;5;21;01mSamplerMixin\u001b[39;00m(BaseEstimator, metaclass\u001b[38;5;241m=\u001b[39mABCMeta):\n",
      "File \u001b[1;32mC:\\ProgramData\\anaconda3\\lib\\site-packages\\imblearn\\utils\\_param_validation.py:908\u001b[0m\n\u001b[0;32m    906\u001b[0m \u001b[38;5;28;01mfrom\u001b[39;00m \u001b[38;5;21;01msklearn\u001b[39;00m\u001b[38;5;21;01m.\u001b[39;00m\u001b[38;5;21;01mutils\u001b[39;00m\u001b[38;5;21;01m.\u001b[39;00m\u001b[38;5;21;01m_param_validation\u001b[39;00m \u001b[38;5;28;01mimport\u001b[39;00m generate_valid_param  \u001b[38;5;66;03m# noqa\u001b[39;00m\n\u001b[0;32m    907\u001b[0m \u001b[38;5;28;01mfrom\u001b[39;00m \u001b[38;5;21;01msklearn\u001b[39;00m\u001b[38;5;21;01m.\u001b[39;00m\u001b[38;5;21;01mutils\u001b[39;00m\u001b[38;5;21;01m.\u001b[39;00m\u001b[38;5;21;01m_param_validation\u001b[39;00m \u001b[38;5;28;01mimport\u001b[39;00m validate_parameter_constraints  \u001b[38;5;66;03m# noqa\u001b[39;00m\n\u001b[1;32m--> 908\u001b[0m \u001b[38;5;28;01mfrom\u001b[39;00m \u001b[38;5;21;01msklearn\u001b[39;00m\u001b[38;5;21;01m.\u001b[39;00m\u001b[38;5;21;01mutils\u001b[39;00m\u001b[38;5;21;01m.\u001b[39;00m\u001b[38;5;21;01m_param_validation\u001b[39;00m \u001b[38;5;28;01mimport\u001b[39;00m (\n\u001b[0;32m    909\u001b[0m     HasMethods,\n\u001b[0;32m    910\u001b[0m     Hidden,\n\u001b[0;32m    911\u001b[0m     Interval,\n\u001b[0;32m    912\u001b[0m     Options,\n\u001b[0;32m    913\u001b[0m     StrOptions,\n\u001b[0;32m    914\u001b[0m     _ArrayLikes,\n\u001b[0;32m    915\u001b[0m     _Booleans,\n\u001b[0;32m    916\u001b[0m     _Callables,\n\u001b[0;32m    917\u001b[0m     _CVObjects,\n\u001b[0;32m    918\u001b[0m     _InstancesOf,\n\u001b[0;32m    919\u001b[0m     _IterablesNotString,\n\u001b[0;32m    920\u001b[0m     _MissingValues,\n\u001b[0;32m    921\u001b[0m     _NoneConstraint,\n\u001b[0;32m    922\u001b[0m     _PandasNAConstraint,\n\u001b[0;32m    923\u001b[0m     _RandomStates,\n\u001b[0;32m    924\u001b[0m     _SparseMatrices,\n\u001b[0;32m    925\u001b[0m     _VerboseHelper,\n\u001b[0;32m    926\u001b[0m     make_constraint,\n\u001b[0;32m    927\u001b[0m     validate_params,\n\u001b[0;32m    928\u001b[0m )\n",
      "\u001b[1;31mImportError\u001b[0m: cannot import name '_MissingValues' from 'sklearn.utils._param_validation' (C:\\ProgramData\\anaconda3\\lib\\site-packages\\sklearn\\utils\\_param_validation.py)"
     ]
    }
   ],
   "source": [
    "# 过采样：对降维的数据进行过采样\n",
    "from imblearn.over_sampling import SMOTE\n",
    "\n",
    "# 创建SMOTE对象\n",
    "smote = SMOTE(random_state=42)\n",
    "# 进行过采样\n",
    "X_, y_ = smote.fit_resample(df_pca, y)"
   ]
  },
  {
   "cell_type": "code",
   "execution_count": null,
   "id": "612548e1-ee4a-4801-9325-98e3a922915b",
   "metadata": {},
   "outputs": [],
   "source": [
    "# 划分测试集和训练集\n",
    "from sklearn.model_selection import train_test_split\n",
    "X_train_, X_test_, y_train_, y_test_ = train_test_split(X_, y_, random_state=47)"
   ]
  },
  {
   "cell_type": "code",
   "execution_count": null,
   "id": "5cd76980-2d38-4757-8be9-707da451fd12",
   "metadata": {},
   "outputs": [],
   "source": [
    "y_labels = list(df['UPDRS'].value_counts().index)\n",
    "y_rates = [i/X.shape[0]*100 for i in list(df['UPDRS'].value_counts())]\n",
    "print(y_rates)"
   ]
  },
  {
   "cell_type": "code",
   "execution_count": null,
   "id": "e048bc3f-1cdb-4dca-87d8-ebf1aa6a1c1d",
   "metadata": {},
   "outputs": [],
   "source": [
    "print(X.shape[0])\n",
    "print(sum(list(df['UPDRS'].value_counts())))"
   ]
  },
  {
   "cell_type": "code",
   "execution_count": null,
   "id": "a8f9ce1a-d73c-4dda-b6e5-918ee7229397",
   "metadata": {},
   "outputs": [],
   "source": [
    "from imblearn.over_sampling import SMOTE\n",
    "\n",
    "# 创建SMOTE对象\n",
    "smote = SMOTE(random_state=42)\n",
    "# 进行过采样\n",
    "X, y = smote.fit_resample(X, y)"
   ]
  },
  {
   "cell_type": "code",
   "execution_count": null,
   "id": "55377913-fb16-4610-85fa-053849df5184",
   "metadata": {},
   "outputs": [],
   "source": [
    "y_resample_rates = [i/X.shape[0]*100 for i in list(y.value_counts())]"
   ]
  },
  {
   "cell_type": "code",
   "execution_count": null,
   "id": "f50663e6-f094-4207-9355-f3740b20f35b",
   "metadata": {},
   "outputs": [],
   "source": [
    "import numpy as np\n",
    "import matplotlib.pyplot as plt\n",
    "\n",
    "# 数据\n",
    "categories = y_labels\n",
    "data1 = y_rates\n",
    "data2 = y_resample_rates\n",
    "\n",
    "# 设置柱状图的宽度\n",
    "bar_width = 0.35\n",
    "\n",
    "# 创建一个范围用于横向调整柱状的位置\n",
    "x = np.arange(len(categories))\n",
    "\n",
    "# 绘制柱状图\n",
    "plt.bar(x - bar_width/2, data1, width=bar_width, label='Raw data proportions')\n",
    "plt.bar(x + bar_width/2, data2, width=bar_width, label='Oversampled data proportions')\n",
    "\n",
    "# 添加标题和坐标轴标签\n",
    "plt.title(\"Data distribution by category\")\n",
    "plt.xlabel(\"Category index\")\n",
    "plt.ylabel(\"Proportion (%)\")\n",
    "\n",
    "# 设置 x 轴刻度标签\n",
    "plt.xticks(x, categories)\n",
    "\n",
    "# 添加图例\n",
    "plt.legend()\n",
    "\n",
    "# 显示图像\n",
    "plt.show()"
   ]
  },
  {
   "cell_type": "code",
   "execution_count": null,
   "id": "ccec7215-ddfa-42cc-b028-1ef5b6f8bba4",
   "metadata": {},
   "outputs": [],
   "source": [
    "from sklearn.neighbors import KNeighborsClassifier\n",
    "from sklearn.metrics import accuracy_score, classification_report, ConfusionMatrixDisplay, RocCurveDisplay\n",
    "X_train, X_test, y_train, y_test = train_test_split(X, y, random_state=47)\n",
    "knn = KNeighborsClassifier()\n",
    "knn.fit(X_train, y_train)\n",
    "y_pred = knn.predict(X_test)\n",
    "accuracy_score(y_test, y_pred)"
   ]
  },
  {
   "cell_type": "code",
   "execution_count": null,
   "id": "c32e16ef-82c5-4e42-b964-27bfa02184ff",
   "metadata": {},
   "outputs": [],
   "source": [
    "# print(classification_report(y_test, y_pred))\n",
    "ConfusionMatrixDisplay.from_predictions(y_test, y_pred, cmap='Blues', display_labels=UPDRS);"
   ]
  },
  {
   "cell_type": "code",
   "execution_count": null,
   "id": "fd9525c8-e5b8-4979-8772-6feafe49da36",
   "metadata": {},
   "outputs": [],
   "source": [
    "from sklearn.tree import DecisionTreeClassifier\n",
    "dt = DecisionTreeClassifier(random_state=47)\n",
    "dt.fit(X_train, y_train)\n",
    "y_pred = dt.predict(X_test)\n",
    "accuracy_score(y_test, y_pred)"
   ]
  },
  {
   "cell_type": "code",
   "execution_count": null,
   "id": "f32316b3-6a6e-404a-887c-7d6addaa4998",
   "metadata": {},
   "outputs": [],
   "source": [
    "ConfusionMatrixDisplay.from_predictions(y_test, y_pred, cmap = 'Blues', display_labels=UPDRS);"
   ]
  },
  {
   "cell_type": "code",
   "execution_count": null,
   "id": "46729ffa-6458-428b-abad-d47e3db42e51",
   "metadata": {},
   "outputs": [],
   "source": [
    "from sklearn.ensemble import RandomForestClassifier\n",
    "rf = RandomForestClassifier(random_state=47)\n",
    "rf.fit(X_train, y_train)\n",
    "y_pred = rf.predict(X_test)\n",
    "accuracy_score(y_test, y_pred)"
   ]
  },
  {
   "cell_type": "code",
   "execution_count": null,
   "id": "3f3d4910-d69d-41fd-bb1d-7344506fba72",
   "metadata": {},
   "outputs": [],
   "source": [
    "ConfusionMatrixDisplay.from_predictions(y_test, y_pred, cmap='Blues', display_labels = UPDRS);"
   ]
  },
  {
   "cell_type": "code",
   "execution_count": null,
   "id": "5f4065f2-36a9-4323-a2b3-996a861a005d",
   "metadata": {},
   "outputs": [],
   "source": [
    "rf.feature_importances_"
   ]
  },
  {
   "cell_type": "code",
   "execution_count": null,
   "id": "09aff07e-d82f-41c1-b7a5-65e77c1c7d91",
   "metadata": {},
   "outputs": [],
   "source": [
    "order = np.argsort(-rf.feature_importances_)"
   ]
  },
  {
   "cell_type": "code",
   "execution_count": null,
   "id": "b4778046-d472-4763-8889-5d22cd67cd63",
   "metadata": {},
   "outputs": [],
   "source": [
    "dfi = pd.DataFrame([tree.feature_importances_[order] for tree in rf.estimators_],\n",
    "                   columns=df.columns[order])\n",
    "dfi.head()"
   ]
  },
  {
   "cell_type": "code",
   "execution_count": null,
   "id": "2f55a6d8-40e4-4db7-aa94-42900cd1dca0",
   "metadata": {},
   "outputs": [],
   "source": [
    "plt.figure(figsize=(15, 4))\n",
    "xpos = range(dfi.shape[1])\n",
    "plt.bar(xpos, dfi.mean(), yerr=dfi.std())\n",
    "plt.xticks(xpos, dfi.columns)\n",
    "plt.ylabel('Importance')\n",
    "plt.xlabel('Feature');"
   ]
  },
  {
   "cell_type": "code",
   "execution_count": null,
   "id": "e1320531-37ca-4f82-b137-86ac6755831f",
   "metadata": {},
   "outputs": [],
   "source": [
    "from sklearn import svm\n",
    "from sklearn.svm import SVC\n",
    "from sklearn.model_selection import train_test_split\n",
    "linear = svm.SVC(kernel='linear',decision_function_shape ='ovo')\n",
    "linear.fit(X_train, y_train)\n",
    "linear_pred = linear.predict(X_test)\n",
    "accuracy_score(y_test, linear_pred)"
   ]
  },
  {
   "cell_type": "code",
   "execution_count": null,
   "id": "dd051349-ea65-4d78-85de-628cb9ef06e9",
   "metadata": {},
   "outputs": [],
   "source": [
    "ConfusionMatrixDisplay.from_predictions(y_test, linear_pred, cmap = 'Blues', display_labels=UPDRS);"
   ]
  },
  {
   "cell_type": "code",
   "execution_count": null,
   "id": "5a2e8fc7-cfb7-4024-b242-87b46f99e4b6",
   "metadata": {},
   "outputs": [],
   "source": [
    "rbf = svm.SVC(kernel='rbf', decision_function_shape ='ovo').fit(X_train, y_train)\n",
    "rbf_pred = rbf.predict(X_test)\n",
    "accuracy_score(y_test, rbf_pred)"
   ]
  },
  {
   "cell_type": "code",
   "execution_count": null,
   "id": "e23c3623-82f1-4b20-8160-8af9b90652e3",
   "metadata": {},
   "outputs": [],
   "source": [
    "sig = svm.SVC(kernel='sigmoid', decision_function_shape ='ovo').fit(X_train, y_train)\n",
    "sig_pred = sig.predict(X_test)\n",
    "accuracy_score(y_test, sig_pred)"
   ]
  },
  {
   "cell_type": "code",
   "execution_count": null,
   "id": "3b372bef-76e9-4eb1-9c50-b84710da406f",
   "metadata": {},
   "outputs": [],
   "source": [
    "ConfusionMatrixDisplay.from_predictions(y_test, sig_pred, cmap = 'Blues', display_labels=UPDRS);"
   ]
  },
  {
   "cell_type": "code",
   "execution_count": null,
   "id": "38b6506e-4865-4154-8cdd-5d1c16b80d8b",
   "metadata": {},
   "outputs": [],
   "source": [
    "models = [knn, dt, rf, linear, rbf, sig]\n",
    "names = ['K-Nearest Neighbors', 'Decision Tree', 'Random Forest', 'SVM (Linear)', 'SVM (RBF)', 'SVM (Sigmoid)']\n",
    "scores = [accuracy_score(y_test, x.predict(X_test)) for x in models]\n",
    "scores"
   ]
  },
  {
   "cell_type": "code",
   "execution_count": null,
   "id": "80c87e79-dd89-42b7-8797-9a987658d76e",
   "metadata": {},
   "outputs": [],
   "source": [
    "plt.barh(range(6), [accuracy_score(y_test, x.predict(X_test)) for x in models])\n",
    "accuracies = [accuracy_score(y_test, x.predict(X_test)) for x in models]\n",
    "for index, value in enumerate(accuracies):\n",
    "    plt.text(value, index, f'{value:.2f}')\n",
    "plt.xticks()\n",
    "plt.yticks(range(6), names)\n",
    "plt.title('Prediction accuracy');"
   ]
  },
  {
   "cell_type": "code",
   "execution_count": null,
   "id": "0109462b-dc1f-41d4-a399-45d4d47e7d82",
   "metadata": {},
   "outputs": [],
   "source": [
    "# 对pca降维后的数据进行分析\n",
    "# KNN\n",
    "from sklearn.neighbors import KNeighborsClassifier\n",
    "from sklearn.metrics import accuracy_score, classification_report, ConfusionMatrixDisplay, RocCurveDisplay\n",
    "from sklearn.model_selection import train_test_split\n",
    "knn = KNeighborsClassifier()\n",
    "knn.fit(X_train_, y_train_)\n",
    "y_pred = knn.predict(X_test_)\n",
    "accuracy_score(y_test_, y_pred)"
   ]
  },
  {
   "cell_type": "code",
   "execution_count": null,
   "id": "a7dc6046-d1a8-4711-9e41-08c8280b7491",
   "metadata": {},
   "outputs": [],
   "source": [
    "ConfusionMatrixDisplay.from_predictions(y_test_, y_pred, cmap = 'Blues', display_labels=UPDRS);"
   ]
  },
  {
   "cell_type": "code",
   "execution_count": null,
   "id": "f5f29c68-a46c-40fc-b10e-415e5c3dafc5",
   "metadata": {},
   "outputs": [],
   "source": [
    "# DTC\n",
    "from sklearn.tree import DecisionTreeClassifier\n",
    "dt = DecisionTreeClassifier(random_state=47)\n",
    "dt.fit(X_train_, y_train_)\n",
    "y_pred = dt.predict(X_test_)\n",
    "accuracy_score(y_test_, y_pred)"
   ]
  },
  {
   "cell_type": "code",
   "execution_count": null,
   "id": "70195425-8596-49b1-bee2-1cdfc011be71",
   "metadata": {},
   "outputs": [],
   "source": [
    "ConfusionMatrixDisplay.from_predictions(y_test_, y_pred, cmap = 'Blues', display_labels=UPDRS);"
   ]
  },
  {
   "cell_type": "code",
   "execution_count": null,
   "id": "ffdd5480-a148-407d-b189-0ba2d7939494",
   "metadata": {},
   "outputs": [],
   "source": [
    "# RFC\n",
    "from sklearn.ensemble import RandomForestClassifier\n",
    "rf = RandomForestClassifier(random_state=47)\n",
    "rf.fit(X_train_, y_train_)\n",
    "y_pred = rf.predict(X_test_)\n",
    "accuracy_score(y_test_, y_pred)"
   ]
  },
  {
   "cell_type": "code",
   "execution_count": null,
   "id": "e00c6e8d-91ac-450e-9585-cb01dc64aff9",
   "metadata": {},
   "outputs": [],
   "source": [
    "ConfusionMatrixDisplay.from_predictions(y_test_, y_pred, cmap = 'Blues', display_labels=UPDRS);"
   ]
  },
  {
   "cell_type": "code",
   "execution_count": null,
   "id": "16ff5021-8460-4b7a-9e74-c2345a56e097",
   "metadata": {},
   "outputs": [],
   "source": [
    "# SVC(Linear)\n",
    "from sklearn import svm\n",
    "from sklearn.svm import SVC\n",
    "from sklearn.model_selection import train_test_split\n",
    "linear = svm.SVC(kernel='linear',decision_function_shape ='ovo')\n",
    "linear.fit(X_train_, y_train_)\n",
    "linear_pred = linear.predict(X_test_)\n",
    "accuracy_score(y_test_, linear_pred)"
   ]
  },
  {
   "cell_type": "code",
   "execution_count": null,
   "id": "53e27d22-c0bb-49c0-b1e2-3ba709768f94",
   "metadata": {},
   "outputs": [],
   "source": [
    "ConfusionMatrixDisplay.from_predictions(y_test_, linear_pred, cmap = 'Blues', display_labels=UPDRS);"
   ]
  },
  {
   "cell_type": "code",
   "execution_count": null,
   "id": "6f676912-accc-4904-ab4b-e5f8ba4e7ed6",
   "metadata": {},
   "outputs": [],
   "source": [
    "# SVC(RBF)\n",
    "rbf = svm.SVC(kernel='rbf', decision_function_shape ='ovo').fit(X_train_, y_train_)\n",
    "rbf_pred = rbf.predict(X_test_)\n",
    "accuracy_score(y_test_, rbf_pred)"
   ]
  },
  {
   "cell_type": "code",
   "execution_count": null,
   "id": "806edc71-fb9f-448b-a311-c390e22583ef",
   "metadata": {},
   "outputs": [],
   "source": [
    "ConfusionMatrixDisplay.from_predictions(y_test_, rbf_pred, cmap = 'Blues', display_labels=UPDRS);"
   ]
  },
  {
   "cell_type": "code",
   "execution_count": null,
   "id": "291e2104-5daf-4e7d-9e29-9de00c1df0bc",
   "metadata": {},
   "outputs": [],
   "source": [
    "sig = svm.SVC(kernel='sigmoid', decision_function_shape ='ovo').fit(X_train_, y_train_)\n",
    "sig_pred = sig.predict(X_test_)\n",
    "accuracy_score(y_test_, sig_pred)"
   ]
  },
  {
   "cell_type": "code",
   "execution_count": null,
   "id": "ea651809-abad-458e-b40a-114d00fe91b5",
   "metadata": {},
   "outputs": [],
   "source": [
    "ConfusionMatrixDisplay.from_predictions(y_test_, sig_pred, cmap = 'Blues', display_labels=UPDRS);"
   ]
  },
  {
   "cell_type": "code",
   "execution_count": null,
   "id": "557c638f-617a-4453-9173-3c338cd8c8d1",
   "metadata": {},
   "outputs": [],
   "source": [
    "models = [knn, dt, rf, linear, rbf, sig]\n",
    "names = ['K-Nearest Neighbors', 'Decision Tree', 'Random Forest', 'SVM (Linear)', 'SVM (RBF)', 'SVM (Sigmoid)']\n",
    "scores_ = [accuracy_score(y_test_, x.predict(X_test_)) for x in models]\n",
    "scores_"
   ]
  },
  {
   "cell_type": "code",
   "execution_count": null,
   "id": "3c65cac5-ca75-43ba-9784-6224916e1954",
   "metadata": {},
   "outputs": [],
   "source": [
    "import numpy as np\n",
    "import matplotlib.pyplot as plt\n",
    "\n",
    "# 数据\n",
    "categories = names\n",
    "data1 = scores\n",
    "data2 = scores_\n",
    "\n",
    "# 设置柱状图的宽度\n",
    "bar_width = 0.35\n",
    "\n",
    "# 创建一个范围用于横向调整柱状的位置\n",
    "x = np.arange(len(categories))\n",
    "\n",
    "# 绘制柱状图\n",
    "plt.bar(x - bar_width/2, data1, width=bar_width, label='Original data')\n",
    "plt.bar(x + bar_width/2, data2, width=bar_width, label='PCA-reduced data')\n",
    "\n",
    "# 添加标题和坐标轴标签\n",
    "plt.title(\"Accuracy of different models\")\n",
    "# plt.xlabel(\"Model name\")\n",
    "plt.ylabel(\"Accuracy\")\n",
    "\n",
    "# 设置 x 轴刻度标签\n",
    "plt.xticks(x, categories)\n",
    "plt.xticks(rotation=45)\n",
    "\n",
    "\n",
    "# 添加图例\n",
    "plt.legend()\n",
    "\n",
    "# 显示图像\n",
    "plt.show()"
   ]
  },
  {
   "cell_type": "code",
   "execution_count": null,
   "id": "9aec6962-f9c3-4ea7-bd07-c0857b64af2f",
   "metadata": {},
   "outputs": [],
   "source": []
  }
 ],
 "metadata": {
  "kernelspec": {
   "display_name": "Python 3 (ipykernel)",
   "language": "python",
   "name": "python3"
  },
  "language_info": {
   "codemirror_mode": {
    "name": "ipython",
    "version": 3
   },
   "file_extension": ".py",
   "mimetype": "text/x-python",
   "name": "python",
   "nbconvert_exporter": "python",
   "pygments_lexer": "ipython3",
   "version": "3.10.9"
  }
 },
 "nbformat": 4,
 "nbformat_minor": 5
}
